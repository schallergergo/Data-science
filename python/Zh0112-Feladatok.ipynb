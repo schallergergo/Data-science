{
 "cells": [
  {
   "cell_type": "markdown",
   "id": "4354603e-d38f-4d0b-9f87-2752915e3cc8",
   "metadata": {},
   "source": [
    "### Python programozás - Pandas - Pót Zárthelyi"
   ]
  },
  {
   "cell_type": "markdown",
   "id": "275ee4d4-a2d3-411f-bac7-f0ad6ae19810",
   "metadata": {},
   "source": [
    "Adott egy CSV-fájl, amely 2023-as indiai ingatlan árakat és jellemzőiket tartalmazza:\n",
    "\n",
    "* __property_type__ : Az ingatlan típusa pl.: Flat, House\n",
    "* __price__ : Az ingatlan ára\n",
    "* __location__ : Az ingatlan elhelyezkedése\n",
    "* __city__ : A város, ahol az ingatlan található\n",
    "* __baths__ : Fürdőszobák száma\n",
    "* __purpose__: Eladásra vagy bérlésre vonatkozik a hírdetés\n",
    "* __bedrooms__: Hálószobák száma\n",
    "* __Area_in_Marla__ : Az ingatlan területe Marla-ban kifejezve\n",
    "\n",
    "Az adathalmazon a következő műveleteket kell elvégezni:"
   ]
  },
  {
   "cell_type": "markdown",
   "id": "de9840fe-0612-4a0c-b844-93fb644b6182",
   "metadata": {},
   "source": [
    "**Import**: Importáld a Pandas csomagot!"
   ]
  },
  {
   "cell_type": "code",
   "execution_count": null,
   "id": "d8975781-aa49-4ecd-9b54-31737f784da7",
   "metadata": {
    "tags": []
   },
   "outputs": [],
   "source": []
  },
  {
   "cell_type": "markdown",
   "id": "90487b27-c7e7-4d87-9c05-918f79fc9533",
   "metadata": {},
   "source": [
    "**Feladat#1**: Olvasd be az __house_prices.csv__ fájlt egy \"_houses_\" változóba, figyeljünk arra, hogy az első oszlop már tartalmazza az indexet! (1 pont)"
   ]
  },
  {
   "cell_type": "code",
   "execution_count": null,
   "id": "f033a2cd-7fc5-4c53-a675-28b8b3be6c20",
   "metadata": {
    "tags": []
   },
   "outputs": [],
   "source": []
  },
  {
   "cell_type": "markdown",
   "id": "390d2ef5-ed47-49df-955a-968aa4431188",
   "metadata": {},
   "source": [
    "**Feladat#2**: Listázzuk ki az adathalmaz első 10 sorát! (1 pont)"
   ]
  },
  {
   "cell_type": "code",
   "execution_count": null,
   "id": "06555a2b-2f63-4ed1-a428-24a15f8f9317",
   "metadata": {
    "tags": []
   },
   "outputs": [],
   "source": []
  },
  {
   "cell_type": "markdown",
   "id": "d5ab4252-7582-4152-a774-00145ec0731b",
   "metadata": {},
   "source": [
    "**Feladat#3**: Készítsünk leíró statisztikát az árakra (darabszám, átlag, min, max stb.)! (1 pont)"
   ]
  },
  {
   "cell_type": "code",
   "execution_count": null,
   "id": "2e9bc61c-bdb6-4f1a-9967-869931bbce9d",
   "metadata": {
    "tags": []
   },
   "outputs": [],
   "source": []
  },
  {
   "cell_type": "markdown",
   "id": "231351a1-6589-476b-8fb2-79f4bf60d96d",
   "metadata": {},
   "source": [
    "**Feladat#4**: Listázzuk az egyes oszlop típusát! (1 pont)"
   ]
  },
  {
   "cell_type": "code",
   "execution_count": null,
   "id": "f3d89f96-a95d-49f5-bb38-772ff1519a04",
   "metadata": {
    "tags": []
   },
   "outputs": [],
   "source": []
  },
  {
   "cell_type": "markdown",
   "id": "4cf9c5f2-b2b0-4847-921e-6513f01bfd86",
   "metadata": {},
   "source": [
    "**Feladat#5**: Írassuk ki azokat az oszlopokat, amelyek null elemet tartalmaznak! (1 pont)\n"
   ]
  },
  {
   "cell_type": "markdown",
   "id": "afd4fd5b-34c0-4407-9177-2277de41417e",
   "metadata": {},
   "source": []
  },
  {
   "cell_type": "markdown",
   "id": "96336d29-cd5a-44e6-9ec6-a23bed100410",
   "metadata": {},
   "source": [
    "**Feladat#6**: Hozzunk létre egy új DataFramet az eredeti alapján, de ez már ne tartalmazzon null értékeket tartalmazó sorokat! (1 pont)"
   ]
  },
  {
   "cell_type": "code",
   "execution_count": null,
   "id": "e400c10e-e05d-4cd4-b66b-5a9a641df3f2",
   "metadata": {
    "tags": []
   },
   "outputs": [],
   "source": []
  },
  {
   "cell_type": "markdown",
   "id": "2074ae3d-3c7a-4bc8-b992-e826384f9ce4",
   "metadata": {},
   "source": [
    "**Feladat#7**: Nevezzük át a \"property_type\" oszlopot \"type\"-ra! (1 pont)"
   ]
  },
  {
   "cell_type": "code",
   "execution_count": null,
   "id": "6b9c00bd-361d-42c4-9b55-7b9e2bd794b5",
   "metadata": {
    "tags": []
   },
   "outputs": [],
   "source": []
  },
  {
   "cell_type": "markdown",
   "id": "51d6eb00-be92-4c57-a236-785dfe71371f",
   "metadata": {},
   "source": [
    "**Feladat#8**: Listázzuk ki, hogy milyen városokhoz tartozó ingatlanok adatait tartalmazza az adathalmaz! (1 pont)"
   ]
  },
  {
   "cell_type": "code",
   "execution_count": null,
   "id": "72698a07-d359-494f-84f3-b1347f781b71",
   "metadata": {},
   "outputs": [],
   "source": []
  },
  {
   "cell_type": "markdown",
   "id": "6e4e2100-32ff-4835-bfc1-4d24e083f731",
   "metadata": {},
   "source": [
    "**Feladat#9**: Listázzuk ki, hogy az egyes városokban hány ingatlan adatait tartalmazza az adathalmaz! (1 pont)"
   ]
  },
  {
   "cell_type": "code",
   "execution_count": null,
   "id": "2deffee9-19a7-4894-b3f6-0a4c0cbb2f29",
   "metadata": {},
   "outputs": [],
   "source": []
  },
  {
   "cell_type": "markdown",
   "id": "4a238dd2-9a16-4957-ad9e-f33c8fffab29",
   "metadata": {},
   "source": [
    "**Feladat#10**: Listázzuk ki az első (pontosan) ezer ingatlan esetén a következő tulajdonságokat, a megadott sorrendben: hírdetés célja, lokáció, város, fürdőszobák száma és az ingatlan ára! (2 pont)"
   ]
  },
  {
   "cell_type": "code",
   "execution_count": null,
   "id": "a424173f-56ae-4d3d-9d6d-dd1e9ad39165",
   "metadata": {},
   "outputs": [],
   "source": []
  },
  {
   "cell_type": "markdown",
   "id": "7368ddb4-55e4-4634-8272-47f5f76fd1a3",
   "metadata": {},
   "source": [
    "**Feladat#11**: Adjuk meg, hogy legalább mennyit kell fizetnünk egy 4 vagy több fürdőszobás ingatlanért? (2 pont)"
   ]
  },
  {
   "cell_type": "code",
   "execution_count": null,
   "id": "b6f24004-a8df-42bf-9968-000a4e3748c0",
   "metadata": {
    "tags": []
   },
   "outputs": [],
   "source": []
  },
  {
   "cell_type": "markdown",
   "id": "8ebcf2c4-b730-44ec-bc24-5c0951e9bbec",
   "metadata": {},
   "source": [
    "**Feladat#12**: Add meg, hogy a 'Islamabad', 'Karachi' városokben található ingatlanoknak mi az átlagára? (2 pont)"
   ]
  },
  {
   "cell_type": "code",
   "execution_count": null,
   "id": "15c2018a-46b8-4adb-8d47-0604f2d76a7b",
   "metadata": {
    "tags": []
   },
   "outputs": [],
   "source": []
  },
  {
   "cell_type": "markdown",
   "id": "ccb1d781-a596-4096-88be-9160bfbe463e",
   "metadata": {},
   "source": [
    "**Feladat#13**: Listázzuk ki azokat a városokat, amelyekhez tartozó hírdetésekben nincs megadva az ingatlanok mérete, de minden város csak egyszer jelenjen meg a listába! (2 pont)"
   ]
  },
  {
   "cell_type": "code",
   "execution_count": null,
   "id": "fdad2352-62b0-4ea2-aab1-89acb86b5238",
   "metadata": {
    "tags": []
   },
   "outputs": [],
   "source": []
  },
  {
   "cell_type": "markdown",
   "id": "321a5c4b-f0a7-48fd-bd96-17526862bf2f",
   "metadata": {},
   "source": [
    "**Feladat#14**: Vegyünk fel egy új oszlopot az adathalmazba \"PriceCategory\" néven, amelybe a \"High\" értéket írjuk, ha az ingatlan ára az átlagár felett van, különben pedig a \"Low\" értéket vegye fel! (3 pont)"
   ]
  },
  {
   "cell_type": "code",
   "execution_count": null,
   "id": "7b597b98-7057-420a-a332-7dd736fa8344",
   "metadata": {},
   "outputs": [],
   "source": []
  },
  {
   "cell_type": "markdown",
   "id": "6d12ad8e-89e7-4edc-afef-40f1f5999deb",
   "metadata": {},
   "source": [
    "**Feladat#15**: Konvertáld számmá az ingatlan típusát leíró oszlopot a következőek szerint: (2 pont)\n",
    "* __Flat__: 1\n",
    "* __House__: 2\n",
    "* __Penthouse__: 3\n",
    "* __Lower Portion__: 4\n",
    "* __Upper Portion__: 5\n",
    "* __Room__: 6\n",
    "* __Farm House__: 7"
   ]
  },
  {
   "cell_type": "code",
   "execution_count": null,
   "id": "bb25825e-041c-4342-b05f-69077be968fb",
   "metadata": {},
   "outputs": [],
   "source": []
  },
  {
   "cell_type": "markdown",
   "id": "d7c9bcc3-f7d2-4299-a34f-3bb65f510d42",
   "metadata": {},
   "source": [
    "**Feladat#16**: Az Area_in_Marla egy indiában használatos mértékegységben tartalmazza az ingatlanok alapterületét, ezt kell átváltani m2-be a következő változószámmal: 1 marla = 25.29 m2, az eredmény mentsd el egy új \"area\" nevű oszlopba! (2 pont) "
   ]
  },
  {
   "cell_type": "code",
   "execution_count": null,
   "id": "c7b42e3d-10b3-4b9f-8763-a212977fe1e4",
   "metadata": {},
   "outputs": [],
   "source": []
  },
  {
   "cell_type": "markdown",
   "id": "7f5296fd-88ca-499a-9986-6dad6ba939fd",
   "metadata": {},
   "source": [
    "**Feladat#17:** Töltsük fel az Area_in_Marla oszlop hiányzó adatait az átlagos alapterülettel! (2 pont) "
   ]
  },
  {
   "cell_type": "code",
   "execution_count": null,
   "id": "26c7353d-59d1-4e63-9eb2-b1b91bcfaee7",
   "metadata": {},
   "outputs": [],
   "source": []
  },
  {
   "cell_type": "markdown",
   "id": "bebb6e0c-04d9-4021-bd53-bc4c2f435d02",
   "metadata": {},
   "source": [
    "**Feladat#18:** Hozzunk létre egy új oszlopot \"Advertisement\" néven, amely egy rövid hírdetés szöveget tartalmaz a következő formában:\n",
    "* Property __{purpose}__ in __{city}__!\n",
    "\n",
    "ahol a paraméter a hírdetés célja és a város megnevezése!\n",
    "(2 pont)"
   ]
  },
  {
   "cell_type": "code",
   "execution_count": null,
   "id": "e613d520-b3a7-4a12-991d-0b205f58a7b0",
   "metadata": {},
   "outputs": [],
   "source": []
  },
  {
   "cell_type": "markdown",
   "id": "f4fc46ce-2225-491b-aa70-596ad187476b",
   "metadata": {},
   "source": [
    "**Feladat#19:** Csoportosítsuk a házakat város szerint és határozzuk meg az átlagos eladási árat!(2 pont)"
   ]
  },
  {
   "cell_type": "code",
   "execution_count": null,
   "id": "f21d1d58-6970-4acd-94f4-a379de4e2bda",
   "metadata": {},
   "outputs": [],
   "source": []
  },
  {
   "cell_type": "markdown",
   "id": "9e2c974a-963b-4372-a21f-9571398f6cf2",
   "metadata": {},
   "source": [
    "**Feladat#20:** Listázzuk ki, hogy az egyes városokon belül az egyes lokációkhoz hány darab ingatlan hírdetése tartozik! (2 pont)"
   ]
  },
  {
   "cell_type": "code",
   "execution_count": null,
   "id": "2801a275-9ec4-43df-ac14-2454eaf1afb0",
   "metadata": {},
   "outputs": [],
   "source": []
  },
  {
   "cell_type": "markdown",
   "id": "81b90bbe-765d-486c-ac98-f6b3b10b1bc7",
   "metadata": {},
   "source": [
    "**Feladat#21:** Az előző lekérdezés eredményében szüntessük meg a többszörös indexelést! (2 pont)"
   ]
  },
  {
   "cell_type": "code",
   "execution_count": null,
   "id": "b7653621-4f9b-428a-ae62-ed722ef94f07",
   "metadata": {},
   "outputs": [],
   "source": []
  },
  {
   "cell_type": "markdown",
   "id": "f0158c3f-6262-4413-8136-9ba5619d1b5e",
   "metadata": {},
   "source": [
    "**Feladat#22** Rendezzük az adathalmazt a hálószobák száma és ár szerint növekvő sorrendbe! (1 pont)"
   ]
  },
  {
   "cell_type": "code",
   "execution_count": null,
   "id": "c46214dc-24b4-4e19-ba35-cebd930951ac",
   "metadata": {},
   "outputs": [],
   "source": []
  },
  {
   "cell_type": "markdown",
   "id": "fc435772-782d-49c8-8b4a-f5249b8eada7",
   "metadata": {},
   "source": [
    "**Feladat#23** Hozz létre az adathalmazban egy új oszlopot \"bath_for_all_room\" néven, amelybe meghatározzuk, hogy az adott ingatlan esetén van-e minden hálószobához külön fürdőszoba! Ha fürdőszobák száma legalább annyi, mint a szobák száma, akkor \"Yes\", külünben pedig a \"No\" értéket vegye fel! (2 pont)"
   ]
  },
  {
   "cell_type": "code",
   "execution_count": null,
   "id": "e2ebed75-d699-4048-8a5d-a0981eb62fc7",
   "metadata": {},
   "outputs": [],
   "source": []
  },
  {
   "cell_type": "markdown",
   "id": "521b9907-448a-4459-8924-68e74c1cce93",
   "metadata": {},
   "source": [
    "**Feladat#24** Számítsuk ki, hogy egy szoba átlagosan hány négyzetméter, amely az ingatlan teljes alapterületének 70%-át osztjuk a hálószobák számával, az eredményt írjuk vissza az AvgBedroomM2 mezőbe(3 pont)"
   ]
  },
  {
   "cell_type": "code",
   "execution_count": null,
   "id": "95ddecf8-2217-4a3d-aad4-0a03b8a9fc99",
   "metadata": {},
   "outputs": [],
   "source": []
  }
 ],
 "metadata": {
  "kernelspec": {
   "display_name": "Python 3 (ipykernel)",
   "language": "python",
   "name": "python3"
  },
  "language_info": {
   "codemirror_mode": {
    "name": "ipython",
    "version": 3
   },
   "file_extension": ".py",
   "mimetype": "text/x-python",
   "name": "python",
   "nbconvert_exporter": "python",
   "pygments_lexer": "ipython3",
   "version": "3.10.5"
  }
 },
 "nbformat": 4,
 "nbformat_minor": 5
}
